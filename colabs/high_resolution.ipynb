{
  "cells": [
    {
      "cell_type": "markdown",
      "metadata": {
        "id": "AG2PShsBHeGN"
      },
      "source": [
        "[infinite_panorama.ipynb](https://github.com/tannakaken/vertigo-garden/blob/master/colabs/infinite_panorama.ipynb)で作成した画像は解像度が足りないので、Real-ESRGANを使って高解像度化した。\n",
        "\n",
        "[infinite_panorama.ipynb](https://github.com/tannakaken/vertigo-garden/blob/master/colabs/infinite_panorama.ipynb)でフォルダに保存していたファイルを処理した後、再び別のフォルダに保存している。\n",
        "\n",
        "以下を参考にした。\n",
        "\n",
        "https://note.com/npaka/n/nab4bb2006257"
      ]
    },
    {
      "cell_type": "code",
      "execution_count": null,
      "metadata": {
        "id": "KzIlyByScjPy"
      },
      "outputs": [],
      "source": [
        "from google.colab import drive\n",
        "drive.mount('/content/drive')"
      ]
    },
    {
      "cell_type": "code",
      "execution_count": null,
      "metadata": {
        "id": "Bsn-YPwbcxOH"
      },
      "outputs": [],
      "source": [
        "import glob\n",
        "print(glob.glob('/content/drive/MyDrive/Colab Notebooks/images/*.png'))"
      ]
    },
    {
      "cell_type": "code",
      "execution_count": null,
      "metadata": {
        "id": "CDeGYQi0dCtO"
      },
      "outputs": [],
      "source": [
        "!nvidia-smi"
      ]
    },
    {
      "cell_type": "code",
      "execution_count": null,
      "metadata": {
        "id": "NkfPvP1A1d-Z"
      },
      "outputs": [],
      "source": [
        "!git clone https://github.com/xinntao/Real-ESRGAN.git"
      ]
    },
    {
      "cell_type": "code",
      "execution_count": null,
      "metadata": {
        "id": "hQ35yTTx1i7n"
      },
      "outputs": [],
      "source": [
        "%cd Real-ESRGAN\n",
        "!pip install basicsr facexlib gfpgan\n",
        "!pip install -r requirements.txt\n",
        "!python setup.py develop"
      ]
    },
    {
      "cell_type": "code",
      "execution_count": null,
      "metadata": {
        "id": "VeEZUoGa1n1p"
      },
      "outputs": [],
      "source": [
        "!wget https://github.com/xinntao/Real-ESRGAN/releases/download/v0.1.0/RealESRGAN_x4plus.pth -P experiments/pretrained_models"
      ]
    },
    {
      "cell_type": "code",
      "execution_count": null,
      "metadata": {
        "id": "5peJ-xL42OwH"
      },
      "outputs": [],
      "source": [
        "!rm -rf inputs/*"
      ]
    },
    {
      "cell_type": "code",
      "execution_count": null,
      "metadata": {
        "id": "SSmvk6GT1xrq"
      },
      "outputs": [],
      "source": [
        "!cp /content/drive/MyDrive/Colab\\ Notebooks/images/*.png inputs/"
      ]
    },
    {
      "cell_type": "code",
      "execution_count": null,
      "metadata": {
        "id": "RkCpTlDa10eB"
      },
      "outputs": [],
      "source": [
        "!ls inputs/"
      ]
    },
    {
      "cell_type": "code",
      "execution_count": null,
      "metadata": {
        "id": "L9pgieTS2aOF"
      },
      "outputs": [],
      "source": [
        "!python inference_realesrgan.py -n RealESRGAN_x4plus"
      ]
    },
    {
      "cell_type": "code",
      "execution_count": null,
      "metadata": {
        "id": "xLn8oSkM22U6"
      },
      "outputs": [],
      "source": [
        "!ls results/"
      ]
    },
    {
      "cell_type": "code",
      "execution_count": null,
      "metadata": {
        "id": "p_wQFrme231h"
      },
      "outputs": [],
      "source": [
        "!cp results/*.png /content/drive/MyDrive/Colab\\ Notebooks/images/results/"
      ]
    }
  ],
  "metadata": {
    "accelerator": "GPU",
    "colab": {
      "provenance": []
    },
    "kernelspec": {
      "display_name": "Python 3.10.6 64-bit",
      "language": "python",
      "name": "python3"
    },
    "language_info": {
      "name": "python",
      "version": "3.10.6"
    },
    "vscode": {
      "interpreter": {
        "hash": "aee8b7b246df8f9039afb4144a1f6fd8d2ca17a180786b69acc140d282b71a49"
      }
    }
  },
  "nbformat": 4,
  "nbformat_minor": 0
}
