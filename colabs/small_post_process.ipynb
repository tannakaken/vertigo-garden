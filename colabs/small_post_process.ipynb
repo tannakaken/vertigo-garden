{
  "cells": [
    {
      "cell_type": "markdown",
      "metadata": {
        "id": "MAECgRZOIapP"
      },
      "source": [
        "[infinite_panorama.ipynb](https://github.com/tannakaken/vertigo-garden/blob/master/colabs/infinite_panorama.ipynb)で生成した画像は、そのままではつながらない。\n",
        "\n",
        "nineth_imageの右半分とlast_imageの左半分にする際、上書きしている部分があるため、画像が異なってしまっている。\n",
        "\n",
        "そこでlast_imageの左半分をnineth_imageの右半分にしてしまうことで、画像が繋がるようになる。\n",
        "\n",
        "またlast_imageの右半分とinitial_imageの左半分も異なってしまっているので、\n",
        "- last_imageの右半分を左にしてinitial_imageの右半分を右にした新しい画像\n",
        "- initial_imageの右半分を左にしてinitial_imageの左半分を右にした新しい画像\n",
        "\n",
        "を作ることで、全体が繋がるようにした。\n",
        "\n",
        "画像は全て[high_resolution.ipynb](https://github.com/tannakaken/vertigo-garden/blob/master/colabs/high_resolution.ipynb)で生成した大きい画像で行なっている。"
      ]
    },
    {
      "cell_type": "code",
      "execution_count": null,
      "metadata": {
        "id": "UJuVd99rz2kA"
      },
      "outputs": [],
      "source": [
        "from google.colab import drive\n",
        "drive.mount('/content/drive')"
      ]
    },
    {
      "cell_type": "code",
      "execution_count": null,
      "metadata": {
        "id": "R6eSyWD5z5Lo"
      },
      "outputs": [],
      "source": [
        "from PIL import Image"
      ]
    },
    {
      "cell_type": "code",
      "execution_count": null,
      "metadata": {
        "id": "fjZ45mCr0DoT"
      },
      "outputs": [],
      "source": [
        "nineth = Image.open('/content/drive/MyDrive/Colab Notebooks/images/results/nineth_image_out.png')\n",
        "nineth"
      ]
    },
    {
      "cell_type": "code",
      "execution_count": null,
      "metadata": {
        "id": "O_wouVP20Igx"
      },
      "outputs": [],
      "source": [
        "last = Image.open('/content/drive/MyDrive/Colab Notebooks/images/results/last_image_out.png')\n",
        "last"
      ]
    },
    {
      "cell_type": "code",
      "execution_count": null,
      "metadata": {
        "id": "iwQxQK3f0SCe"
      },
      "outputs": [],
      "source": [
        "nineth_2 = Image.new(\"RGB\", (2048, 2048), \"white\")\n",
        "crop_left = nineth.crop((0, 0, 1024, 2048))\n",
        "crop_right = last.crop((0, 0, 1024, 2048))\n",
        "nineth_2.paste(crop_left, (0, 0))\n",
        "nineth_2.paste(crop_right, (1024, 0))\n",
        "nineth_2"
      ]
    },
    {
      "cell_type": "code",
      "execution_count": null,
      "metadata": {
        "id": "EP7xeqTi064E"
      },
      "outputs": [],
      "source": [
        "nineth_2.save('/content/drive/MyDrive/Colab Notebooks/images/results/nineth_image_2.png')"
      ]
    },
    {
      "cell_type": "code",
      "execution_count": null,
      "metadata": {
        "id": "i0Bq1rgO1gox"
      },
      "outputs": [],
      "source": [
        "initial = Image.open('/content/drive/MyDrive/Colab Notebooks/images/results/initial_image_out.png')\n",
        "initial"
      ]
    },
    {
      "cell_type": "code",
      "execution_count": null,
      "metadata": {
        "id": "J5O5jA1y1t_8"
      },
      "outputs": [],
      "source": [
        "last_2 = Image.new(\"RGB\", (2048, 2048), \"white\")\n",
        "crop_left = last.crop((1024, 0, 2048, 2048))\n",
        "crop_right = initial.crop((1024, 0, 2048, 2048))\n",
        "last_2.paste(crop_left, (0, 0))\n",
        "last_2.paste(crop_right, (1024, 0))\n",
        "last_2"
      ]
    },
    {
      "cell_type": "code",
      "execution_count": null,
      "metadata": {
        "id": "UNR8E_p-7xV2"
      },
      "outputs": [],
      "source": [
        "last_2.save('/content/drive/MyDrive/Colab Notebooks/images/results/last_image_2.png')"
      ]
    },
    {
      "cell_type": "code",
      "execution_count": null,
      "metadata": {
        "id": "m_4ySSdy8RGm"
      },
      "outputs": [],
      "source": [
        "last_3 = Image.new(\"RGB\", (2048, 2048), \"white\")\n",
        "crop_left = initial.crop((1024, 0, 2048, 2048))\n",
        "crop_right = initial.crop((0, 0, 1024, 2048))\n",
        "last_3.paste(crop_left, (0, 0))\n",
        "last_3.paste(crop_right, (1024, 0))\n",
        "last_3"
      ]
    },
    {
      "cell_type": "code",
      "execution_count": null,
      "metadata": {
        "id": "AyG4v8fM8lLz"
      },
      "outputs": [],
      "source": [
        "last_3.save('/content/drive/MyDrive/Colab Notebooks/images/results/last_image_3.png')"
      ]
    }
  ],
  "metadata": {
    "colab": {
      "collapsed_sections": [],
      "provenance": []
    },
    "kernelspec": {
      "display_name": "Python 3.10.6 64-bit",
      "language": "python",
      "name": "python3"
    },
    "language_info": {
      "name": "python",
      "version": "3.10.6"
    },
    "vscode": {
      "interpreter": {
        "hash": "aee8b7b246df8f9039afb4144a1f6fd8d2ca17a180786b69acc140d282b71a49"
      }
    }
  },
  "nbformat": 4,
  "nbformat_minor": 0
}
